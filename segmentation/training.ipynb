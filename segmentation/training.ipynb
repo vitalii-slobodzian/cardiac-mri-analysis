{
 "cells": [
  {
   "cell_type": "code",
   "execution_count": null,
   "metadata": {},
   "outputs": [],
   "source": []
  },
  {
   "cell_type": "code",
   "execution_count": null,
   "metadata": {},
   "outputs": [],
   "source": [
    "config = ConfigLoader.get_config(CONFIG_PATH)\n",
    "\n",
    "learner = Learner(config)\n",
    "model = learner.learn(None, [CutToSquare(), Resize(config['size'])])\n",
    "\n",
    "learner.show_results(model)\n",
    "learner.export_model(model)"
   ]
  }
 ],
 "metadata": {
  "kernelspec": {
   "display_name": "venv",
   "language": "python",
   "name": "python3"
  },
  "language_info": {
   "name": "python",
   "version": "3.9.13"
  }
 },
 "nbformat": 4,
 "nbformat_minor": 2
}
