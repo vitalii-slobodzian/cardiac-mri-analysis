{
 "cells": [
  {
   "cell_type": "code",
   "execution_count": null,
   "metadata": {},
   "outputs": [],
   "source": [
    "from helpers import ConfigLoader\n",
    "from learner import Learner"
   ]
  },
  {
   "cell_type": "code",
   "execution_count": null,
   "metadata": {},
   "outputs": [],
   "source": [
    "config = ConfigLoader.get_config('configs/myo_localization.yaml')\n",
    "\n",
    "learner = Learner(config)\n",
    "model = learner.learn()\n",
    "\n",
    "learner.show_results(model)\n",
    "learner.export_model(model)"
   ]
  },
  {
   "cell_type": "code",
   "execution_count": null,
   "metadata": {},
   "outputs": [],
   "source": [
    "config = ConfigLoader.get_config('configs/lv_localization.yaml')\n",
    "\n",
    "learner = Learner(config)\n",
    "model = learner.learn()\n",
    "\n",
    "learner.show_results(model)\n",
    "learner.export_model(model)"
   ]
  },
  {
   "cell_type": "code",
   "execution_count": null,
   "metadata": {},
   "outputs": [],
   "source": [
    "config = ConfigLoader.get_config('configs/rv_localization.yaml')\n",
    "\n",
    "learner = Learner(config)\n",
    "model = learner.learn()\n",
    "\n",
    "learner.show_results(model)\n",
    "learner.export_model(model)"
   ]
  }
 ],
 "metadata": {
  "kernelspec": {
   "display_name": "venv",
   "language": "python",
   "name": "python3"
  },
  "language_info": {
   "codemirror_mode": {
    "name": "ipython",
    "version": 3
   },
   "file_extension": ".py",
   "mimetype": "text/x-python",
   "name": "python",
   "nbconvert_exporter": "python",
   "pygments_lexer": "ipython3",
   "version": "3.9.13"
  }
 },
 "nbformat": 4,
 "nbformat_minor": 2
}
