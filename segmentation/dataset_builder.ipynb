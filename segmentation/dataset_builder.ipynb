{
 "cells": [
  {
   "cell_type": "code",
   "execution_count": 20,
   "metadata": {},
   "outputs": [],
   "source": [
    "import os\n",
    "import numpy as np\n",
    "from helpers import *\n",
    "from fastai.vision.all import *"
   ]
  },
  {
   "cell_type": "code",
   "execution_count": 21,
   "metadata": {},
   "outputs": [],
   "source": [
    "CUT_TO_SQUARE = True\n",
    "\n",
    "RESIZE = False\n",
    "SIZE = 256\n",
    "\n",
    "LOCALIZE = False\n",
    "LOCALIZE_BORDER = 0.20\n",
    "\n",
    "REMAP = True\n",
    "# BG RV MYO LV\n",
    "ORIGINAL_CLASSES = [0, 1, 2, 3]\n",
    "TARGET_CLASSES = [0, 1, 0, 0]\n",
    "\n",
    "DATASET_NAME = 'rv'\n",
    "DATASET_PATH = 'D:/Projects/PhD/datasets/ACDC/nii/training'\n",
    "OUTPUT_PATH =  'D:/Projects/PhD/datasets/ACDC/png/training/' + DATASET_NAME\n",
    "\n",
    "os.makedirs(OUTPUT_PATH, exist_ok=True)"
   ]
  },
  {
   "cell_type": "code",
   "execution_count": 22,
   "metadata": {},
   "outputs": [],
   "source": [
    "reader = NiiReader()\n",
    "images, image_names, configs = reader.read_folder(DATASET_PATH, '**/*[!4d][!gt].nii.gz')\n",
    "masks, _, _ = reader.read_folder(DATASET_PATH, '**/*gt.nii.gz')"
   ]
  },
  {
   "cell_type": "code",
   "execution_count": 23,
   "metadata": {},
   "outputs": [],
   "source": [
    "all_pixels = np.concatenate([img.flatten() for img in images])\n",
    "p99 = np.percentile(all_pixels, 99)"
   ]
  },
  {
   "cell_type": "code",
   "execution_count": 24,
   "metadata": {},
   "outputs": [
    {
     "name": "stdout",
     "output_type": "stream",
     "text": [
      "The \"patient001_frame01_0\" image has no mask\n"
     ]
    },
    {
     "ename": "TypeError",
     "evalue": "normalize_image() got an unexpected keyword argument 'max_value'",
     "output_type": "error",
     "traceback": [
      "\u001b[1;31m---------------------------------------------------------------------------\u001b[0m",
      "\u001b[1;31mTypeError\u001b[0m                                 Traceback (most recent call last)",
      "Cell \u001b[1;32mIn[24], line 19\u001b[0m\n\u001b[0;32m     16\u001b[0m     image_array \u001b[38;5;241m=\u001b[39m image_array[min_row:max_row, min_col:max_col]\n\u001b[0;32m     17\u001b[0m     mask_array \u001b[38;5;241m=\u001b[39m mask_array[min_row:max_row, min_col:max_col]\n\u001b[1;32m---> 19\u001b[0m normalized_image \u001b[38;5;241m=\u001b[39m \u001b[43mnormalize_image\u001b[49m\u001b[43m(\u001b[49m\u001b[43mimage_array\u001b[49m\u001b[43m,\u001b[49m\u001b[43m \u001b[49m\u001b[43mmax_value\u001b[49m\u001b[38;5;241;43m=\u001b[39;49m\u001b[43mp99\u001b[49m\u001b[43m)\u001b[49m\n\u001b[0;32m     21\u001b[0m image \u001b[38;5;241m=\u001b[39m PILImage\u001b[38;5;241m.\u001b[39mcreate(normalized_image\u001b[38;5;241m.\u001b[39mastype(np\u001b[38;5;241m.\u001b[39muint8))\n\u001b[0;32m     22\u001b[0m mask \u001b[38;5;241m=\u001b[39m PILMask\u001b[38;5;241m.\u001b[39mcreate(mask_array\u001b[38;5;241m.\u001b[39mastype(np\u001b[38;5;241m.\u001b[39muint8))\n",
      "\u001b[1;31mTypeError\u001b[0m: normalize_image() got an unexpected keyword argument 'max_value'"
     ]
    }
   ],
   "source": [
    "counter = 0\n",
    "for (image_array, mask_array, image_name, config) in zip(images, masks, image_names, configs):\n",
    "    if CUT_TO_SQUARE:\n",
    "        image_array = cut_to_square(image_array)\n",
    "        mask_array = cut_to_square(mask_array)\n",
    "    \n",
    "    if REMAP:\n",
    "        remap_mask(mask_array, ORIGINAL_CLASSES, TARGET_CLASSES)\n",
    "\n",
    "    if np.all(mask_array == 0):\n",
    "        print(f'The \"{image_name}\" image has no mask')\n",
    "        continue\n",
    "\n",
    "    if LOCALIZE:\n",
    "        (min_row, max_row, min_col, max_col, width, height) = get_mask_bounding_box(mask_array, LOCALIZE_BORDER, CUT_TO_SQUARE)\n",
    "        image_array = image_array[min_row:max_row, min_col:max_col]\n",
    "        mask_array = mask_array[min_row:max_row, min_col:max_col]\n",
    "\n",
    "    normalized_image = normalize_image(image_array, max_value=p99)\n",
    "\n",
    "    image = PILImage.create(normalized_image.astype(np.uint8))\n",
    "    mask = PILMask.create(mask_array.astype(np.uint8))\n",
    "    \n",
    "    if RESIZE:\n",
    "        image = image.resize((SIZE, SIZE))\n",
    "        mask = mask.resize((SIZE, SIZE))\n",
    "\n",
    "    image_output = os.path.join(OUTPUT_PATH, 'images')\n",
    "    mask_output = os.path.join(OUTPUT_PATH, 'masks')\n",
    "\n",
    "    os.makedirs(image_output, exist_ok=True)\n",
    "    os.makedirs(mask_output, exist_ok=True)\n",
    "\n",
    "    image.save(os.path.join(image_output, image_name + '.png'))\n",
    "    mask.save(os.path.join(mask_output, image_name + '.png'))"
   ]
  }
 ],
 "metadata": {
  "kernelspec": {
   "display_name": "venv",
   "language": "python",
   "name": "python3"
  },
  "language_info": {
   "codemirror_mode": {
    "name": "ipython",
    "version": 3
   },
   "file_extension": ".py",
   "mimetype": "text/x-python",
   "name": "python",
   "nbconvert_exporter": "python",
   "pygments_lexer": "ipython3",
   "version": "3.9.13"
  }
 },
 "nbformat": 4,
 "nbformat_minor": 2
}
